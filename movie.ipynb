{
 "cells": [
  {
   "cell_type": "code",
   "execution_count": 250,
   "id": "2798389a-c9fa-4de2-9b4c-4020b024f497",
   "metadata": {},
   "outputs": [],
   "source": [
    "import math\n",
    "from collections import defaultdict\n",
    "from collections import Counter"
   ]
  },
  {
   "cell_type": "code",
   "execution_count": 251,
   "id": "47e9b817-571d-4ba7-b6c2-18f953c7d328",
   "metadata": {},
   "outputs": [],
   "source": [
    "# 1.1\n",
    "def read_ratings_data(f):\n",
    "    # parameter f: movie ratings file name f (e.g. \"movieRatingSample.txt\")\n",
    "    # return: dictionary that maps movie to ratings\n",
    "    # WRITE YOUR CODE BELOW\n",
    "    \n",
    "    \n",
    "    lines = []\n",
    "    movie_ratings_dict  = defaultdict(list)\n",
    "    \n",
    "    with open (f, \"r\") as file:\n",
    "        lines = file.readlines()\n",
    "    file.close()\n",
    "    \n",
    "    for i in range(len(lines)):\n",
    "        word = lines[i].strip('\\n').split('|')\n",
    "        movie_ratings_dict[word[0]].append(word[1])\n",
    "\n",
    "    return movie_ratings_dict \n"
   ]
  },
  {
   "cell_type": "code",
   "execution_count": 252,
   "id": "67b9a320-52df-41bd-a267-c933eb5851a9",
   "metadata": {},
   "outputs": [
    {
     "data": {
      "text/plain": [
       "defaultdict(list,\n",
       "            {'Toy Story (1995)': ['4.0', '4.0', '4.5', '2.5', '4.5', '3.5'],\n",
       "             'Jumanji (1995)': ['4.0', '4.0', '3.0', '3.0', '3.0', '3.5'],\n",
       "             'Tom and Huck (1995)': ['3.0', '1.0', '5.0', '3.0', '2.0', '3.0'],\n",
       "             'Grumpier Old Men (1995)': ['4.0',\n",
       "              '5.0',\n",
       "              '3.0',\n",
       "              '3.0',\n",
       "              '4.0',\n",
       "              '5.0'],\n",
       "             'Waiting to Exhale (1995)': ['3.0',\n",
       "              '3.0',\n",
       "              '3.0',\n",
       "              '3.0',\n",
       "              '1.0',\n",
       "              '2.0'],\n",
       "             'Father of the Bride Part II (1995)': ['5.0',\n",
       "              '3.0',\n",
       "              '5.0',\n",
       "              '3.0',\n",
       "              '4.0',\n",
       "              '4.0'],\n",
       "             'Heat (1995)': ['4.0', '4.0', '5.0', '4.0', '4.0', '4.5'],\n",
       "             'Sudden Death (1995)': ['4.0', '3.0', '3.0', '2.0', '3.0', '5.0'],\n",
       "             'GoldenEye (1995)': ['3.0', '2.0', '3.0', '2.0', '5.0', '3.0']})"
      ]
     },
     "execution_count": 252,
     "metadata": {},
     "output_type": "execute_result"
    }
   ],
   "source": [
    "# 1.1 Test\n",
    "read_ratings_data(\"sampleRatingsFile.txt\")"
   ]
  },
  {
   "cell_type": "code",
   "execution_count": 253,
   "id": "9bfd2aed-f677-4b68-823b-9a2986d117c3",
   "metadata": {},
   "outputs": [],
   "source": [
    "# 1.2\n",
    "def read_movie_genre(f):\n",
    "    # parameter f: movies genre file name f (e.g. \"genreMovieSample.txt\")\n",
    "    # return: dictionary that maps movie to genre\n",
    "    # WRITE YOUR CODE BELOW\n",
    "    # { \"Toy Story (1995)\" : \"Adventure\", \"Golden Eye (1995)\" : \"Action\" }\n",
    "    \n",
    "    \n",
    "    lines = []\n",
    "    movie_genre_dict  = {}\n",
    "    \n",
    "    with open (f, \"r\") as file:\n",
    "        lines = file.readlines()\n",
    "    file.close()\n",
    "    \n",
    "    for i in range(len(lines)):\n",
    "        word = lines[i].strip('\\n').split('|')\n",
    "        movie_genre_dict[word[2]] = word[0]\n",
    "\n",
    "    return movie_genre_dict\n"
   ]
  },
  {
   "cell_type": "code",
   "execution_count": 254,
   "id": "f4b4a89a-6420-4012-ad69-4d670249cff4",
   "metadata": {},
   "outputs": [
    {
     "data": {
      "text/plain": [
       "{'Toy Story (1995)': 'Adventure',\n",
       " 'Jumanji (1995)': 'Adventure',\n",
       " 'Tom and Huck (1995)': 'Adventure',\n",
       " 'Grumpier Old Men (1995)': 'Comedy',\n",
       " 'Waiting to Exhale (1995)': 'Comedy',\n",
       " 'Father of the Bride Part II (1995)': 'Comedy',\n",
       " 'Heat (1995)': 'Action',\n",
       " 'Sudden Death (1995)': 'Action',\n",
       " 'GoldenEye (1995)': 'Action'}"
      ]
     },
     "execution_count": 254,
     "metadata": {},
     "output_type": "execute_result"
    }
   ],
   "source": [
    "# 1.2 Test\n",
    "read_movie_genre(\"smapleMoviesFile.txt\")"
   ]
  },
  {
   "cell_type": "code",
   "execution_count": 255,
   "id": "6ecf645e-939a-47b2-a699-0f1b0e5f91fe",
   "metadata": {},
   "outputs": [],
   "source": [
    "# 2.1\n",
    "def create_genre_dict(d):\n",
    "    # parameter d: dictionary that maps movie to genre\n",
    "    # return: dictionary that maps genre to movies\n",
    "    # WRITE YOUR CODE BELOW\n",
    "    # { genre1: [ m1, m2, m3], genre2: [m6, m7] }\n",
    "    \n",
    "    genre_to_movie =  defaultdict(list)\n",
    "\n",
    "    for key, value in d.items():\n",
    "            \n",
    "            genre_to_movie[value].append(key);\n",
    "\n",
    "    return genre_to_movie\n"
   ]
  },
  {
   "cell_type": "code",
   "execution_count": 256,
   "id": "1fb2c755-508c-4e3d-8f02-3a50e4be9bd9",
   "metadata": {},
   "outputs": [
    {
     "data": {
      "text/plain": [
       "defaultdict(list, {'genre1': ['m1', 'm2', 'm3'], 'genre2': ['m6', 'm7']})"
      ]
     },
     "execution_count": 256,
     "metadata": {},
     "output_type": "execute_result"
    }
   ],
   "source": [
    "# 2.1 Test\n",
    "movie_to_genre = {\n",
    "      \"m1\": \"genre1\",\n",
    "      \"m2\": \"genre1\",\n",
    "      \"m3\": \"genre1\",\n",
    "      \"m6\": \"genre2\",\n",
    "      \"m7\": \"genre2\"\n",
    "    }\n",
    "\n",
    "create_genre_dict(movie_to_genre)"
   ]
  },
  {
   "cell_type": "code",
   "execution_count": 257,
   "id": "9d20f738-4eba-41f5-8c02-b6182b34a511",
   "metadata": {},
   "outputs": [],
   "source": [
    "# 2.2\n",
    "def calculate_average_rating(d):\n",
    "    # parameter d: dictionary that maps movie to ratings\n",
    "    # return: dictionary that maps movie to average rating\n",
    "    # WRITE YOUR CODE BELOW\n",
    "    # {\"Spider-Man (2002)\": [3,2,4,5]}  ==>   {\"Spider-Man (2002)\": 3.5}\n",
    "    \n",
    "    rating_avg = {}\n",
    "\n",
    "    for key in d.keys():\n",
    "            avg = sum(d[key])/len(d[key])\n",
    "            rating_avg[key] = avg\n",
    "\n",
    "    return rating_avg\n"
   ]
  },
  {
   "cell_type": "code",
   "execution_count": 258,
   "id": "18bc3b7c-d3c1-4c95-8224-9f77e06eef41",
   "metadata": {},
   "outputs": [
    {
     "data": {
      "text/plain": [
       "{'Spider-Man (2002)': 3.5}"
      ]
     },
     "execution_count": 258,
     "metadata": {},
     "output_type": "execute_result"
    }
   ],
   "source": [
    "# 2.2 Test\n",
    "movie_to_average= {\n",
    "            \"Spider-Man (2002)\": [3,2,4,5]\n",
    "    }\n",
    "calculate_average_rating(movie_to_average)"
   ]
  },
  {
   "cell_type": "code",
   "execution_count": 259,
   "id": "290f9073-46d5-495a-81f0-5e36657decfd",
   "metadata": {},
   "outputs": [],
   "source": [
    "# 3.1\n",
    "def get_popular_movies(d, n=10):\n",
    "    # parameter d: dictionary that maps movie to average rating\n",
    "    # parameter n: integer (for top n), default value 10\n",
    "    # return: dictionary that maps movie to average rating\n",
    "    # WRITE YOUR CODE BELOW\n",
    "    popular = {}\n",
    "    for key, value in sorted(d.items(), key=lambda item: item[1], reverse = True)[:n]:\n",
    "        popular[key] = value\n",
    "\n",
    "    return popular\n",
    "\n"
   ]
  },
  {
   "cell_type": "code",
   "execution_count": 260,
   "id": "0e6b3040-871d-4c58-85a7-5d363fc3f5fc",
   "metadata": {},
   "outputs": [
    {
     "data": {
      "text/plain": [
       "{'Spider-Ma': 5.5, 'Spider-Man (20': 4.5, 'Spider-Man': 3.7}"
      ]
     },
     "execution_count": 260,
     "metadata": {},
     "output_type": "execute_result"
    }
   ],
   "source": [
    "# 3.1 Test\n",
    "dic_dic = {\n",
    "          \"Spider-Man (2002)\": 3.5,\n",
    "          \"Spider-Man (2002\": 2.5,\n",
    "          \"Spider-Man (200\": 1.5,\n",
    "          \"Spider-Man (20\": 4.5,\n",
    "          \"Spider-Man (2\": 3.1,\n",
    "          \"Spider-Man (\": 3.0,\n",
    "          \"Spider-Man \": 3.6,\n",
    "          \"Spider-Man\": 3.7,\n",
    "          \"Spider-Ma\": 5.5,\n",
    "          \"Spider-M\": 3.5,\n",
    "          \"Spider-\": 2.5,\n",
    "          \"Spider\": 3.3,\n",
    "          \"Spide\": 3.5,\n",
    "          \"Spid\": 3.5,\n",
    "          \"Spi\": 3.5\n",
    "        }\n",
    "get_popular_movies(dic_dic,3)"
   ]
  },
  {
   "cell_type": "code",
   "execution_count": 261,
   "id": "c4a5a0a7-ada9-4ade-950d-46565827a0b9",
   "metadata": {},
   "outputs": [],
   "source": [
    "# 3.2\n",
    "def filter_movies(d, thres_rating=3):\n",
    "    # parameter d: dictionary that maps movie to average rating\n",
    "    # parameter thres_rating: threshold rating, default value 3\n",
    "    # return: dictionary that maps movie to average rating\n",
    "    # WRITE YOUR CODE BELOW\n",
    "    thres = {}\n",
    "    for key, value in d.items():\n",
    "        if value >= thres_rating:\n",
    "            thres[key] = value\n",
    "    return thres\n",
    "    "
   ]
  },
  {
   "cell_type": "code",
   "execution_count": 262,
   "id": "b860b182-6ca8-4df2-b075-64e2a9f065da",
   "metadata": {},
   "outputs": [
    {
     "data": {
      "text/plain": [
       "{'Spider-Ma': 5.5}"
      ]
     },
     "execution_count": 262,
     "metadata": {},
     "output_type": "execute_result"
    }
   ],
   "source": [
    "# 3.2 Test\n",
    "dic_dic = {\n",
    "  \"Spider-Man (2002)\": 3.5,\n",
    "  \"Spider-Man (2002\": 2.5,\n",
    "  \"Spider-Man (200\": 1.5,\n",
    "  \"Spider-Man (20\": 4.5,\n",
    "  \"Spider-Man (2\": 3.1,\n",
    "  \"Spider-Man (\": 3.0,\n",
    "  \"Spider-Man \": 3.6,\n",
    "  \"Spider-Man\": 3.7,\n",
    "  \"Spider-Ma\": 5.5,\n",
    "  \"Spider-M\": 3.5,\n",
    "  \"Spider-\": 2.5,\n",
    "  \"Spider\": 3.3,\n",
    "  \"Spide\": 3.5,\n",
    "  \"Spid\": 3.5,\n",
    "  \"Spi\": 3.5\n",
    "    }\n",
    "filter_movies(dic_dic, 5)"
   ]
  },
  {
   "cell_type": "code",
   "execution_count": 263,
   "id": "9cd29514-b9ae-4e61-ba87-a8937dbf3d07",
   "metadata": {},
   "outputs": [],
   "source": [
    "# 3.3\n",
    "def get_popular_in_genre(genre, genre_to_movies, movie_to_average_rating, n=5):\n",
    "    # parameter genre: genre name (e.g. \"Comedy\")\n",
    "    # parameter genre_to_movies: dictionary that maps genre to movies\n",
    "    # parameter movie_to_average_rating: dictionary  that maps movie to average rating\n",
    "    # parameter n: integer (for top n), default value 5\n",
    "    # return: dictionary that maps movie to average rating\n",
    "    # WRITE YOUR CODE BELOW\n",
    "    genre_list = []\n",
    "    for key, value in genre_to_movies.items():\n",
    "        if key == genre:\n",
    "            genre_list = value\n",
    "     \n",
    "    match_rating = {}\n",
    "    for i in genre_list:\n",
    "        for key, value in movie_to_average_rating.items():\n",
    "            if i == key:\n",
    "                match_rating[key] = value\n",
    "        \n",
    "    genre_popular = dict(sorted(match_rating.items(), key=lambda item: item[1], reverse = True)[:n])\n",
    "\n",
    "            \n",
    "    return genre_popular\n"
   ]
  },
  {
   "cell_type": "code",
   "execution_count": 264,
   "id": "0c9fcc03-9882-4356-a5c6-7f048374bda3",
   "metadata": {},
   "outputs": [
    {
     "data": {
      "text/plain": [
       "{'m2': 4.1, 'm3': 3.9}"
      ]
     },
     "execution_count": 264,
     "metadata": {},
     "output_type": "execute_result"
    }
   ],
   "source": [
    "# 3.3 Test\n",
    "genre = \"genre1\"\n",
    "genre_to_movies={'genre1': ['m1', 'm2', 'm3'], 'genre2': ['m6', 'm7']}\n",
    "movie_to_average_rating = {'m1': 3.5, 'm2': 4.1, 'm3': 3.9, 'm4': 5.0}\n",
    "get_popular_in_genre(genre, genre_to_movies,movie_to_average_rating,2)"
   ]
  },
  {
   "cell_type": "code",
   "execution_count": 265,
   "id": "7b778f4c-16b2-4098-b2c9-e36c7d51ac9f",
   "metadata": {},
   "outputs": [],
   "source": [
    "# 3.4\n",
    "def get_genre_rating(genre, genre_to_movies, movie_to_average_rating):\n",
    "    # parameter genre: genre name (e.g. \"Comedy\")\n",
    "    # parameter genre_to_movies: dictionary that maps genre to movies\n",
    "    # parameter movie_to_average_rating: dictionary  that maps movie to average rating\n",
    "    # return: average rating of movies in genre\n",
    "    # WRITE YOUR CODE BELOW\n",
    "    genre_list = []\n",
    "    for key, value in genre_to_movies.items():\n",
    "        if key == genre:\n",
    "            genre_list = value\n",
    "            \n",
    "    match_rating = {}\n",
    "    for i in genre_list:\n",
    "        for key, value in movie_to_average_rating.items():\n",
    "            if i == key:\n",
    "                match_rating[key] = value\n",
    "     \n",
    "    total = 0\n",
    "    for value in match_rating.values():\n",
    "        total += value\n",
    "    \n",
    "    avg = total/len(match_rating)\n",
    "           \n",
    "\n",
    "    return avg\n"
   ]
  },
  {
   "cell_type": "code",
   "execution_count": 266,
   "id": "dfe3e66a-4583-459d-8c9d-358fcc7c95bc",
   "metadata": {},
   "outputs": [
    {
     "data": {
      "text/plain": [
       "3.8333333333333335"
      ]
     },
     "execution_count": 266,
     "metadata": {},
     "output_type": "execute_result"
    }
   ],
   "source": [
    "# 3.4 Test\n",
    "genre = \"genre1\"\n",
    "genre_to_movies={'genre1': ['m1', 'm2', 'm3'], 'genre2': ['m6', 'm7']}\n",
    "movie_to_average_rating = {'m1': 3.5, 'm2': 4.1, 'm3': 3.9, 'm4': 5.0}\n",
    "\n",
    "\n",
    "get_genre_rating(genre, genre_to_movies,movie_to_average_rating)"
   ]
  },
  {
   "cell_type": "code",
   "execution_count": 267,
   "id": "5770fb50-2887-4233-9f4b-4e1abb193967",
   "metadata": {},
   "outputs": [],
   "source": [
    "# 3.5\n",
    "def genre_popularity(genre_to_movies, movie_to_average_rating, n=5):\n",
    "    # parameter genre_to_movies: dictionary that maps genre to movies\n",
    "    # parameter movie_to_average_rating: dictionary  that maps movie to average rating\n",
    "    # parameter n: integer (for top n), default value 5\n",
    "    # return: dictionary that maps genre to average rating\n",
    "    # WRITE YOUR CODE BELOW\n",
    "    gener_pop = {}\n",
    "    \n",
    "    \n",
    "    for key, value in genre_to_movies.items():    \n",
    "        match_rating = {}\n",
    "        for i in value:\n",
    "            for k, v in movie_to_average_rating.items():\n",
    "                if i == k:\n",
    "                    match_rating[k] = v\n",
    "     \n",
    "        total = 0\n",
    "        for val in match_rating.values():\n",
    "            total += val\n",
    "    \n",
    "        avg = total/len(match_rating)\n",
    "        gener_pop[key] = avg\n",
    "           \n",
    "    gener_pop = dict(sorted(gener_pop.items(), key=lambda item: item[1], reverse = True)[:n])\n",
    "    return gener_pop"
   ]
  },
  {
   "cell_type": "code",
   "execution_count": 268,
   "id": "5f630dae-bc89-449d-a3e1-f3fdc07d8323",
   "metadata": {},
   "outputs": [
    {
     "data": {
      "text/plain": [
       "{'genre1': 3.8333333333333335, 'genre2': 3.15}"
      ]
     },
     "execution_count": 268,
     "metadata": {},
     "output_type": "execute_result"
    }
   ],
   "source": [
    "# 3.5 Test\n",
    "genre_to_movies={'genre1': ['m1', 'm2', 'm3'], 'genre2': ['m6', 'm7']}\n",
    "movie_to_average_rating = {'m1': 3.5, 'm2': 4.1, 'm3': 3.9, 'm4': 5.0, 'm5': 4.7, 'm6': 2.8, 'm7': 3.5}\n",
    "\n",
    "\n",
    "genre_popularity(genre_to_movies,movie_to_average_rating)"
   ]
  },
  {
   "cell_type": "code",
   "execution_count": 269,
   "id": "57bd832d-d955-402d-a0a3-05191fba08f4",
   "metadata": {},
   "outputs": [],
   "source": [
    "# 4.1\n",
    "def read_user_ratings(f):\n",
    "    # parameter f: movie ratings file name (e.g. \"movieRatingSample.txt\")\n",
    "    # return: dictionary that maps user to movies and ratings\n",
    "    # WRITE YOUR CODE BELOW\n",
    "    lines = []\n",
    "    user_ratings  = defaultdict(list)\n",
    "    \n",
    "    with open (f, \"r\") as file:\n",
    "        lines = file.readlines()\n",
    "    file.close()\n",
    "    \n",
    "    for i in range(len(lines)):\n",
    "        word = lines[i].strip('\\n').split('|')\n",
    "        user_ratings[word[2]].append((word[0] ,float(word[1])))\n",
    "\n",
    "    return user_ratings"
   ]
  },
  {
   "cell_type": "code",
   "execution_count": 270,
   "id": "be4ed549-ec2c-46cd-b12a-eed072935b68",
   "metadata": {},
   "outputs": [
    {
     "data": {
      "text/plain": [
       "defaultdict(list,\n",
       "            {'1': [('Toy Story (1995)', 4.0),\n",
       "              ('Grumpier Old Men (1995)', 4.0),\n",
       "              ('Heat (1995)', 4.0)],\n",
       "             '5': [('Toy Story (1995)', 4.0)],\n",
       "             '7': [('Toy Story (1995)', 4.5)],\n",
       "             '15': [('Toy Story (1995)', 2.5)],\n",
       "             '17': [('Toy Story (1995)', 4.5)],\n",
       "             '18': [('Toy Story (1995)', 3.5),\n",
       "              ('Jumanji (1995)', 3.0),\n",
       "              ('Heat (1995)', 4.0)],\n",
       "             '6': [('Jumanji (1995)', 4.0),\n",
       "              ('Tom and Huck (1995)', 3.0),\n",
       "              ('Grumpier Old Men (1995)', 5.0),\n",
       "              ('Waiting to Exhale (1995)', 3.0),\n",
       "              ('Father of the Bride Part II (1995)', 5.0),\n",
       "              ('Heat (1995)', 4.0),\n",
       "              ('GoldenEye (1995)', 3.0)],\n",
       "             '8': [('Jumanji (1995)', 4.0), ('GoldenEye (1995)', 2.0)],\n",
       "             '19': [('Jumanji (1995)', 3.0),\n",
       "              ('Grumpier Old Men (1995)', 3.0),\n",
       "              ('GoldenEye (1995)', 2.0)],\n",
       "             '20': [('Jumanji (1995)', 3.0), ('Tom and Huck (1995)', 1.0)],\n",
       "             '21': [('Jumanji (1995)', 3.5), ('GoldenEye (1995)', 5.0)],\n",
       "             '43': [('Tom and Huck (1995)', 5.0),\n",
       "              ('Grumpier Old Men (1995)', 5.0),\n",
       "              ('Father of the Bride Part II (1995)', 5.0)],\n",
       "             '274': [('Tom and Huck (1995)', 3.0)],\n",
       "             '372': [('Tom and Huck (1995)', 2.0)],\n",
       "             '414': [('Tom and Huck (1995)', 3.0)],\n",
       "             '32': [('Grumpier Old Men (1995)', 3.0)],\n",
       "             '42': [('Grumpier Old Men (1995)', 4.0)],\n",
       "             '14': [('Waiting to Exhale (1995)', 3.0)],\n",
       "             '84': [('Waiting to Exhale (1995)', 3.0)],\n",
       "             '162': [('Waiting to Exhale (1995)', 3.0)],\n",
       "             '262': [('Waiting to Exhale (1995)', 1.0)],\n",
       "             '411': [('Waiting to Exhale (1995)', 2.0)],\n",
       "             '31': [('Father of the Bride Part II (1995)', 3.0)],\n",
       "             '45': [('Father of the Bride Part II (1995)', 3.0)],\n",
       "             '58': [('Father of the Bride Part II (1995)', 4.0)],\n",
       "             '66': [('Father of the Bride Part II (1995)', 4.0)],\n",
       "             '11': [('Heat (1995)', 5.0), ('GoldenEye (1995)', 3.0)],\n",
       "             '23': [('Heat (1995)', 4.0)],\n",
       "             '24': [('Heat (1995)', 4.5)],\n",
       "             '151': [('Sudden Death (1995)', 4.0)],\n",
       "             '179': [('Sudden Death (1995)', 3.0)],\n",
       "             '217': [('Sudden Death (1995)', 3.0)],\n",
       "             '269': [('Sudden Death (1995)', 2.0)],\n",
       "             '270': [('Sudden Death (1995)', 3.0)],\n",
       "             '337': [('Sudden Death (1995)', 5.0)],\n",
       "             '26': [('GoldenEye (1995)', 3.0)]})"
      ]
     },
     "execution_count": 270,
     "metadata": {},
     "output_type": "execute_result"
    }
   ],
   "source": [
    "# 4.1 Test\n",
    "read_user_ratings(\"sampleRatingsFile.txt\")"
   ]
  },
  {
   "cell_type": "code",
   "execution_count": 271,
   "id": "135eeb05-31ab-45a0-9e55-e50d34094d29",
   "metadata": {},
   "outputs": [],
   "source": [
    "# 4.2\n",
    "def get_user_genre(user_id, user_to_movies, movie_to_genre):\n",
    "    # parameter user_id: user id\n",
    "    # parameter user_to_movies: dictionary that maps user to movies and ratings\n",
    "    # parameter movie_to_genre: dictionary that maps movie to genre\n",
    "    # return: top genre that user likes\n",
    "    # WRITE YOUR CODE BELOW\n",
    "    movie_list = []\n",
    "    for key, value in user_to_movies.items():\n",
    "        if user_id == key:\n",
    "            movie_list = value\n",
    "            \n",
    "    genre_top  = defaultdict(list)\n",
    "    for i in range(len(movie_list)):\n",
    "        for k, v in movie_to_genre.items():\n",
    "            if movie_list[i][0] == k:\n",
    "                genre_top[v].append(movie_list[i])\n",
    "                \n",
    "    genre_rating = {}\n",
    "    \n",
    "    for k1, v1 in genre_top.items():\n",
    "        total = 0\n",
    "        for i in range(len(v1)):\n",
    "            total += v1[i][1]\n",
    "        avg = total / len(v1)\n",
    "        genre_rating[k1] = avg\n",
    "           \n",
    "    user_genre = sorted(genre_rating.items(), key=lambda item: item[1], reverse = True)[:1][0][0]\n",
    "    return user_genre\n",
    "            "
   ]
  },
  {
   "cell_type": "code",
   "execution_count": 272,
   "id": "b8e876bd-758d-46c3-a6aa-af598945d3f4",
   "metadata": {},
   "outputs": [
    {
     "data": {
      "text/plain": [
       "'genre1'"
      ]
     },
     "execution_count": 272,
     "metadata": {},
     "output_type": "execute_result"
    }
   ],
   "source": [
    "# 4.2 Test\n",
    "user_id = '1'\n",
    "user_to_movies = {'1':[('m1',3.5),('m2',5),('m3',4)],'2':[('m4',3.3),('m5',2.9)]}\n",
    "movie_to_genre = {'m1':'genre1','m2':'genre1','m3':'genre2','m4':'genre2','m5':'genre3'}\n",
    "get_user_genre(user_id, user_to_movies, movie_to_genre)"
   ]
  },
  {
   "cell_type": "code",
   "execution_count": 273,
   "id": "2a989439-16dd-4ed8-9bcc-85e28e39e995",
   "metadata": {},
   "outputs": [],
   "source": [
    "# 4.3    \n",
    "def recommend_movies(user_id, user_to_movies, movie_to_genre, movie_to_average_rating):\n",
    "    # parameter user_id: user id\n",
    "    # parameter user_to_movies: dictionary that maps user to movies and ratings\n",
    "    # parameter movie_to_genre: dictionary that maps movie to genre\n",
    "    # parameter movie_to_average_rating: dictionary that maps movie to average rating\n",
    "    # return: dictionary that maps movie to average rating\n",
    "    # WRITE YOUR CODE BELOW\n",
    "    movie_list = []\n",
    "    for key, value in user_to_movies.items():\n",
    "        if user_id == key:\n",
    "            movie_list = value\n",
    "            \n",
    "    genre_top  = defaultdict(list)\n",
    "    for i in range(len(movie_list)):\n",
    "        for k, v in movie_to_genre.items():\n",
    "            if movie_list[i][0] == k:\n",
    "                genre_top[v].append(movie_list[i])\n",
    "                \n",
    "    genre_rating = {}\n",
    "    \n",
    "    for k1, v1 in genre_top.items():\n",
    "        total = 0\n",
    "        for i in range(len(v1)):\n",
    "            total += v1[i][1]\n",
    "        avg = total / len(v1)\n",
    "        genre_rating[k1] = avg\n",
    "           \n",
    "    user_genre = sorted(genre_rating.items(), key=lambda item: item[1], reverse = True)[:1][0][0]\n",
    "    \n",
    "    mylist = []\n",
    "    for i in range(len(movie_list)):\n",
    "        mylist.append(movie_list[i][0])\n",
    "    \n",
    "    recommend_range = {}\n",
    "    for k2, v2 in movie_to_average_rating.items():\n",
    "        for k3, v3 in movie_to_genre.items():\n",
    "            if k3 == k2 and v3 == user_genre:\n",
    "                recommend_range[k2] =v2\n",
    "    \n",
    "    recommend_list = {}\n",
    "    for k4, v4 in recommend_range.items():\n",
    "        if k4 not in mylist:\n",
    "            recommend_list[k4] = v4\n",
    "            \n",
    "    recommend_top3 = dict(sorted(recommend_list.items(), key=lambda item: item[1], reverse = True)[:3])\n",
    "        \n",
    "    return recommend_top3\n",
    "    \n",
    "    "
   ]
  },
  {
   "cell_type": "code",
   "execution_count": 274,
   "id": "a4ffb669-6e69-40a0-aa59-119bd5609e87",
   "metadata": {},
   "outputs": [
    {
     "data": {
      "text/plain": [
       "{'m8': 5, 'm7': 4.5, 'm6': 3.4}"
      ]
     },
     "execution_count": 274,
     "metadata": {},
     "output_type": "execute_result"
    }
   ],
   "source": [
    "# 4.3 Test\n",
    "user_id = '1'\n",
    "user_to_movies = {'1':[('m1',3.5),('m2',5),('m3',4)],'2':[('m4',3.3),('m5',2.9)]}\n",
    "movie_to_genre = {'m1':'genre1','m2':'genre1','m3':'genre2','m4':'genre2','m5':'genre3','m6':'genre1','m7':'genre1','m8':'genre1','m9':'genre1'}\n",
    "movie_to_average_rating = {'m1':3, 'm2': 5,'m3': 4,'m4':3.3, 'm5':2.9, 'm6':3.4,'m7':4.5,'m8':5,'m9':2.2}\n",
    "recommend_movies(user_id, user_to_movies, movie_to_genre, movie_to_average_rating)"
   ]
  },
  {
   "cell_type": "code",
   "execution_count": null,
   "id": "0bd41ca2-151a-4707-b934-77d7dbe46894",
   "metadata": {},
   "outputs": [],
   "source": []
  }
 ],
 "metadata": {
  "kernelspec": {
   "display_name": "Python 3 (ipykernel)",
   "language": "python",
   "name": "python3"
  },
  "language_info": {
   "codemirror_mode": {
    "name": "ipython",
    "version": 3
   },
   "file_extension": ".py",
   "mimetype": "text/x-python",
   "name": "python",
   "nbconvert_exporter": "python",
   "pygments_lexer": "ipython3",
   "version": "3.9.7"
  }
 },
 "nbformat": 4,
 "nbformat_minor": 5
}
